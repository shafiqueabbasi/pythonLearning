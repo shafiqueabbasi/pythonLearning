{
 "cells": [
  {
   "cell_type": "code",
   "execution_count": null,
   "id": "b28d8c5b-43ab-4ab3-8c3f-d24c750463dc",
   "metadata": {},
   "outputs": [],
   "source": [
    "Strings Assignments"
   ]
  },
  {
   "cell_type": "code",
   "execution_count": 8,
   "id": "340aec77-78e3-49e5-9b2b-a1bfb17c301b",
   "metadata": {},
   "outputs": [
    {
     "name": "stdin",
     "output_type": "stream",
     "text": [
      "Enter a string:  shafique\n"
     ]
    },
    {
     "name": "stdout",
     "output_type": "stream",
     "text": [
      "The number of vowels in the string is : 4\n"
     ]
    }
   ],
   "source": [
    "# 1. Write a program that accepts a string from user. Your program should count and display number of\n",
    "# vowels in that string.\n",
    "\n",
    "def count_vowels(input_string):\n",
    "    vowels = \"aeiouAEIOU\"\n",
    "    count = 0\n",
    "\n",
    "    for char in input_string:\n",
    "        if char in vowels:\n",
    "            count += 1\n",
    "    return count\n",
    "\n",
    "user_input = input(\"Enter a string: \")\n",
    "\n",
    "vowels_count = count_vowels(user_input)\n",
    "\n",
    "print(f\"The number of vowels in the string is : {vowels_count}\")\n",
    "        "
   ]
  },
  {
   "cell_type": "code",
   "execution_count": 11,
   "id": "b3d9b128-f2fe-4f05-ac08-ee7529b35472",
   "metadata": {},
   "outputs": [
    {
     "name": "stdin",
     "output_type": "stream",
     "text": [
      "Enter a string:  Write a program that reads a string from the keyboard string:\n"
     ]
    },
    {
     "name": "stdout",
     "output_type": "stream",
     "text": [
      "Number of Uppercase letters: 1\n",
      "Number of Lowercase letters: 49\n",
      "Number of Digits letters: 0\n",
      "Number of Whitespace Charactors letters: 10\n"
     ]
    }
   ],
   "source": [
    "# 2. Write a program that reads a string from keyboard and display:\n",
    "# * The number of uppercase letters in the string\n",
    "# * The number of lowercase letters in the string\n",
    "# * The number of digits in the string\n",
    "# * The number of whitespace characters in the string\n",
    "\n",
    "input_string = input(\"Enter a string: \")\n",
    "\n",
    "uppercase_count = 0\n",
    "lowercase_count = 0\n",
    "digits_count = 0\n",
    "whitespace_count = 0\n",
    "\n",
    "for char in input_string:\n",
    "    if char.isupper():\n",
    "        uppercase_count += 1\n",
    "    elif char.islower():\n",
    "        lowercase_count += 1\n",
    "    elif char.isdigit():\n",
    "        digits_count += 1\n",
    "    elif char.isspace():\n",
    "        whitespace_count += 1\n",
    "\n",
    "print(f\"Number of Uppercase letters: {uppercase_count}\")\n",
    "print(f\"Number of Lowercase letters: {lowercase_count}\")\n",
    "print(f\"Number of Digits letters: {digits_count}\")\n",
    "print(f\"Number of Whitespace Charactors letters: {whitespace_count}\")"
   ]
  },
  {
   "cell_type": "code",
   "execution_count": 6,
   "id": "dabf18f4-9cb3-4272-95fc-a4a17a123d2f",
   "metadata": {},
   "outputs": [
    {
     "name": "stdin",
     "output_type": "stream",
     "text": [
      "Enter a string:  Shafique\n"
     ]
    },
    {
     "name": "stdout",
     "output_type": "stream",
     "text": [
      "The new string is: ehafiquS\n"
     ]
    }
   ],
   "source": [
    "# 3. Write a Python program that accepts a string from user. Your program should create and display a\n",
    "# new string where the first and last characters have been exchanged.\n",
    "# For example if the user enters the string 'HELLO' then new string would be 'OELLH'\n",
    "\n",
    "user_input = input(\"Enter a string: \")\n",
    "\n",
    "if len(user_input) > 1:\n",
    "    new_string = user_input[-1] + user_input[1:-1] + user_input[0]\n",
    "else:\n",
    "    new_string = user_input\n",
    "\n",
    "print(\"The new string is:\", new_string)\n"
   ]
  },
  {
   "cell_type": "code",
   "execution_count": 17,
   "id": "21ea55b3-6ac6-4643-b614-d450071b73c7",
   "metadata": {},
   "outputs": [
    {
     "name": "stdin",
     "output_type": "stream",
     "text": [
      "Enter a string:  EXAM\n"
     ]
    },
    {
     "name": "stdout",
     "output_type": "stream",
     "text": [
      "The reversed string is: MAXE\n"
     ]
    }
   ],
   "source": [
    "# 4. Write a Python program that accepts a string from user. Your program should create a new string in\n",
    "# reverse of first string and display it.\n",
    "# For example if the user enters the string 'EXAM' then new string would be 'MAXE'\n",
    "\n",
    "user_input = input(\"Enter a string: \")\n",
    "\n",
    "reversed_string = user_input[::-1]\n",
    "\n",
    "print(\"The reversed string is:\", reversed_string)\n"
   ]
  },
  {
   "cell_type": "code",
   "execution_count": 8,
   "id": "b300bed2-8dcd-441c-884c-aaa5d7f35af5",
   "metadata": {},
   "outputs": [
    {
     "name": "stdin",
     "output_type": "stream",
     "text": [
      "Enter a string:  examination 2021\n"
     ]
    },
    {
     "name": "stdout",
     "output_type": "stream",
     "text": [
      "The new string after shifting is: xamination 2021e\n"
     ]
    }
   ],
   "source": [
    "# 5. Write a Python program that accepts a string from user. Your program should create a new string by\n",
    "# shifting one position to left.\n",
    "# For example if the user enters the string 'examination 2021' then new string would be 'xamination\n",
    "# 2021e'\n",
    "\n",
    "user_input = input(\"Enter a string: \")\n",
    "\n",
    "new_string = user_input[1:] + user_input[0]\n",
    "\n",
    "print(\"The new string after shifting is:\", new_string)\n"
   ]
  },
  {
   "cell_type": "code",
   "execution_count": 9,
   "id": "0d3fec18-2a65-48cd-97f5-58a31ef8105b",
   "metadata": {},
   "outputs": [
    {
     "name": "stdin",
     "output_type": "stream",
     "text": [
      "Enter your full name (first name, middle name, last name):  Muhammad Shafique\n"
     ]
    },
    {
     "name": "stdout",
     "output_type": "stream",
     "text": [
      "The initials are: M. S.\n"
     ]
    }
   ],
   "source": [
    "# 6. Write a program that asks the user to input his name and print its initials. Assuming that the user\n",
    "# always types first name, middle name and last name and does not include any unnecessary spaces.\n",
    "# For example, if the user enters Ajay Kumar Garg the program should display A. K. G.\n",
    "# Note: Don't use split() method\n",
    "\n",
    "full_name = input(\"Enter your full name (first name, middle name, last name): \")\n",
    "\n",
    "initials = \"\"\n",
    "\n",
    "i = 0\n",
    "while i < len(full_name):\n",
    "    if i == 0 or full_name[i-1] == ' ':\n",
    "        initials += full_name[i].upper() + \". \"\n",
    "    i += 1\n",
    "\n",
    "print(\"The initials are:\", initials.strip())\n"
   ]
  },
  {
   "cell_type": "code",
   "execution_count": 12,
   "id": "9cd319d3-ddb9-4dd9-a47a-3aa06edd276a",
   "metadata": {},
   "outputs": [
    {
     "name": "stdin",
     "output_type": "stream",
     "text": [
      "Enter a string:  madam\n"
     ]
    },
    {
     "name": "stdout",
     "output_type": "stream",
     "text": [
      "The string 'madam' is a palindrome.\n"
     ]
    }
   ],
   "source": [
    "# 7. A palindrome is a string that reads the same backward as forward. For example, the words dad,\n",
    "# madam and radar are all palindromes. Write a programs that determines whether the string is a\n",
    "# palindrome.\n",
    "# Note: do not use reverse() method\n",
    "\n",
    "user_input = input(\"Enter a string: \")\n",
    "\n",
    "user_input = user_input.replace(\" \", \"\").lower()\n",
    "\n",
    "is_palindrome = True\n",
    "for i in range(len(user_input) // 2):\n",
    "    if user_input[i] != user_input[len(user_input) - 1 - i]:\n",
    "        is_palindrome = False\n",
    "        break\n",
    "\n",
    "if is_palindrome:\n",
    "    print(f\"The string '{user_input}' is a palindrome.\")\n",
    "else:\n",
    "    print(f\"The string '{user_input}' is not a palindrome.\")\n"
   ]
  },
  {
   "cell_type": "code",
   "execution_count": 13,
   "id": "9ac96ef3-c652-4db9-8917-6a88dd0a6110",
   "metadata": {},
   "outputs": [
    {
     "name": "stdout",
     "output_type": "stream",
     "text": [
      "SHIFT\n",
      "HIFTS\n",
      "IFTSH\n",
      "FTSHI\n",
      "TSHIF\n"
     ]
    }
   ],
   "source": [
    "# 8. Write a program that display following output:\n",
    "# SHIFT\n",
    "# HIFTS\n",
    "# IFTSH\n",
    "# FTSHI\n",
    "# TSHIF\n",
    "# SHIFT\n",
    "\n",
    "original_string = \"SHIFT\"\n",
    "\n",
    "for i in range(len(original_string)):\n",
    "    shifted_string = original_string[i:] + original_string[:i]\n",
    "    print(shifted_string)\n"
   ]
  },
  {
   "cell_type": "code",
   "execution_count": 16,
   "id": "4062fdb6-14ac-4be2-a567-368a7593f551",
   "metadata": {},
   "outputs": [
    {
     "name": "stdin",
     "output_type": "stream",
     "text": [
      "Enter your password:  Shafique03233651021\n"
     ]
    },
    {
     "name": "stdout",
     "output_type": "stream",
     "text": [
      "Password is valid.\n"
     ]
    }
   ],
   "source": [
    "# 9. Write a program in python that accepts a string to setup a passwords. Your entered password must\n",
    "# meet the following requirements:\n",
    "# The password must be at least eight characters long.\n",
    "# It must contain at least one uppercase letter.\n",
    "# It must contain at least one lowercase letter.\n",
    "# It must contain at least one numeric digit.\n",
    "# Your program should should perform this validation.\n",
    "\n",
    "def validate_password(password):\n",
    "    if len(password) < 8:\n",
    "        return \"Password must be at least 8 characters long.\"\n",
    "    \n",
    "    if not re.search(r'[A-Z]', password):\n",
    "        return \"Password must contain at least one uppercase letter.\"\n",
    "    \n",
    "    if not re.search(r'[a-z]', password):\n",
    "        return \"Password must contain at least one lowercase letter.\"\n",
    "    \n",
    "    if not re.search(r'[0-9]', password):\n",
    "        return \"Password must contain at least one numeric digit.\"\n",
    "    \n",
    "    return \"Password is valid.\"\n",
    "\n",
    "user_password = input(\"Enter your password: \")\n",
    "\n",
    "validation_result = validate_password(user_password)\n",
    "\n",
    "print(validation_result)\n"
   ]
  },
  {
   "cell_type": "code",
   "execution_count": null,
   "id": "63978698-7e6e-4709-9538-9f269a7bd80e",
   "metadata": {},
   "outputs": [],
   "source": []
  }
 ],
 "metadata": {
  "kernelspec": {
   "display_name": "Python 3 (ipykernel)",
   "language": "python",
   "name": "python3"
  },
  "language_info": {
   "codemirror_mode": {
    "name": "ipython",
    "version": 3
   },
   "file_extension": ".py",
   "mimetype": "text/x-python",
   "name": "python",
   "nbconvert_exporter": "python",
   "pygments_lexer": "ipython3",
   "version": "3.12.7"
  }
 },
 "nbformat": 4,
 "nbformat_minor": 5
}
