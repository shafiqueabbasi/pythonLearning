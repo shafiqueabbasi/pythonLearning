{
 "cells": [
  {
   "cell_type": "code",
   "execution_count": 1,
   "id": "32133626-f588-4702-8a29-17f4570fdaec",
   "metadata": {},
   "outputs": [
    {
     "name": "stdout",
     "output_type": "stream",
     "text": [
      "Enter your salary:  55000\n",
      "Enter your year of service:  6\n"
     ]
    },
    {
     "name": "stdout",
     "output_type": "stream",
     "text": [
      "Your bonus amount is: 2750.0\n"
     ]
    }
   ],
   "source": [
    "# 1. A company decided to give bonus of 5% to employee if his/her year of service is more than 5 years. \n",
    "#    Ask user for their salary and year of service and print the net bonus amount.\n",
    "\n",
    "salary = float(input(\"Enter your salary: \"))\n",
    "year_of_service = int(input(\"Enter your year of service: \"))\n",
    "\n",
    "if year_of_service > 5:\n",
    "    bonus = salary * 0.05\n",
    "else:\n",
    "    bonus = 0\n",
    "\n",
    "print(f\"Your bonus amount is: {bonus}\")"
   ]
  },
  {
   "cell_type": "code",
   "execution_count": 2,
   "id": "0d155ca5-1cde-4414-8a8c-32c12ee5aa97",
   "metadata": {},
   "outputs": [
    {
     "name": "stdout",
     "output_type": "stream",
     "text": [
      "Enter your age:  30\n"
     ]
    },
    {
     "name": "stdout",
     "output_type": "stream",
     "text": [
      "You are eligible for voting.\n"
     ]
    }
   ],
   "source": [
    "# 2. Write a program to check whether a person is eligible for voting or not. \n",
    "#   (accept age from user) if age is greater than 17 eligible otherwise not eligible\n",
    "\n",
    "age = int(input(\"Enter your age: \"))\n",
    "\n",
    "if age > 17:\n",
    "    print(\"You are eligible for voting.\")\n",
    "else:\n",
    "    print(\"You are not eligible for voting.\")"
   ]
  },
  {
   "cell_type": "code",
   "execution_count": 3,
   "id": "dc5501a4-78ef-46c2-aaa4-7e216f52e853",
   "metadata": {},
   "outputs": [
    {
     "name": "stdout",
     "output_type": "stream",
     "text": [
      "Enter a number:  4\n"
     ]
    },
    {
     "name": "stdout",
     "output_type": "stream",
     "text": [
      "The number 4 is even.\n"
     ]
    }
   ],
   "source": [
    "# 3. Write a program to check whether a number entered by user is even or odd.\n",
    "\n",
    "number = int(input(\"Enter a number: \"))\n",
    "\n",
    "if number % 2 == 0:\n",
    "    print(f\"The number {number} is even.\")\n",
    "else:\n",
    "    print(f\"The number {number} is odd.\")"
   ]
  },
  {
   "cell_type": "code",
   "execution_count": 4,
   "id": "9b0ca267-302b-4346-87fe-2626376c1e9e",
   "metadata": {},
   "outputs": [
    {
     "name": "stdout",
     "output_type": "stream",
     "text": [
      "Enter a number:  14\n"
     ]
    },
    {
     "name": "stdout",
     "output_type": "stream",
     "text": [
      "The number 14 is divisible by 7.\n"
     ]
    }
   ],
   "source": [
    "# 4. Write a program to check whether a number is divisible by 7 or not. Show Answer\n",
    "\n",
    "number = int(input(\"Enter a number: \"))\n",
    "\n",
    "if number % 7 == 0:\n",
    "    print(f\"The number {number} is divisible by 7.\")\n",
    "else:\n",
    "    print(f\"The number {number} is not divisible by 7.\")"
   ]
  },
  {
   "cell_type": "code",
   "execution_count": 7,
   "id": "aac6b0e3-ae26-48a3-a314-7c379985f1bf",
   "metadata": {},
   "outputs": [
    {
     "name": "stdout",
     "output_type": "stream",
     "text": [
      "Enter a number:  10\n"
     ]
    },
    {
     "name": "stdout",
     "output_type": "stream",
     "text": [
      "Hello\n"
     ]
    }
   ],
   "source": [
    "# 5. Write a program to display \"Hello\" if a number entered by user is a multiple of five , otherwise print \"Bye\".\n",
    "\n",
    "number = int(input(\"Enter a number: \"))\n",
    "\n",
    "if number % 5 == 0:\n",
    "    print(\"Hello\")\n",
    "else:\n",
    "    print(\"Bye\")"
   ]
  },
  {
   "cell_type": "code",
   "execution_count": 8,
   "id": "d4533141-af75-46f9-b911-3a55dc694056",
   "metadata": {},
   "outputs": [
    {
     "name": "stdout",
     "output_type": "stream",
     "text": [
      "Enter a number:  345\n"
     ]
    },
    {
     "name": "stdout",
     "output_type": "stream",
     "text": [
      "The last digit of the number is: 5\n"
     ]
    }
   ],
   "source": [
    "# 6. Write a program to display the last digit of a number.\n",
    "\n",
    "number = int(input(\"Enter a number: \"))\n",
    "\n",
    "last_digit = number % 10\n",
    "\n",
    "print(f\"The last digit of the number is: {last_digit}\")"
   ]
  },
  {
   "cell_type": "code",
   "execution_count": 9,
   "id": "7fe8babf-e629-4baf-a8d8-15d0b49af76a",
   "metadata": {},
   "outputs": [
    {
     "name": "stdout",
     "output_type": "stream",
     "text": [
      "Enter the length of the rectangle:  6\n",
      "Enter the breadth of the rectangle:  5\n"
     ]
    },
    {
     "name": "stdout",
     "output_type": "stream",
     "text": [
      "It is a rectangle.\n"
     ]
    }
   ],
   "source": [
    "# 7. Take values of length and breadth of a rectangle from user and print if it is square or rectangle.\n",
    "\n",
    "length = float(input(\"Enter the length of the rectangle: \"))\n",
    "breadth = float(input(\"Enter the breadth of the rectangle: \"))\n",
    "\n",
    "if length == breadth:\n",
    "    print(\"It is a square.\")\n",
    "else:\n",
    "    print(\"It is a rectangle.\")"
   ]
  },
  {
   "cell_type": "code",
   "execution_count": 10,
   "id": "a01582be-6dbb-43d4-8ce4-3c318d421b4c",
   "metadata": {},
   "outputs": [
    {
     "name": "stdout",
     "output_type": "stream",
     "text": [
      "Enter the first number:  22\n",
      "Enter the second number:  33\n"
     ]
    },
    {
     "name": "stdout",
     "output_type": "stream",
     "text": [
      "The greatest number is 33.\n"
     ]
    }
   ],
   "source": [
    "# 8. Take two int values from user and print greatest among them.\n",
    "\n",
    "num1 = int(input(\"Enter the first number: \"))\n",
    "num2 = int(input(\"Enter the second number: \"))\n",
    "\n",
    "if num1 > num2:\n",
    "    print(f\"The greatest number is {num1}.\")\n",
    "elif num2 > num1:\n",
    "    print(f\"The greatest number is {num2}.\")\n",
    "else:\n",
    "    print(\"Both numbers are equal.\")"
   ]
  },
  {
   "cell_type": "code",
   "execution_count": 11,
   "id": "bc7467f0-9a51-424e-aa08-cf427701948b",
   "metadata": {},
   "outputs": [
    {
     "name": "stdout",
     "output_type": "stream",
     "text": [
      "Enter the quantity of items purchased:  1\n"
     ]
    },
    {
     "name": "stdout",
     "output_type": "stream",
     "text": [
      "Total cost is: 100\n"
     ]
    }
   ],
   "source": [
    "# 9. A shop will give discount of 10% if the cost of purchased quantity is more than 1000. \n",
    "#    Ask user for quantity Suppose, one unit will cost 100. Judge and print total cost for user.\n",
    "\n",
    "quantity = int(input(\"Enter the quantity of items purchased: \"))\n",
    "\n",
    "unit_price = 100\n",
    "total_cost = quantity * unit_price\n",
    "\n",
    "if total_cost > 1000:\n",
    "    discount = total_cost * 0.10\n",
    "    total_cost_after_discount = total_cost - discount\n",
    "    print(f\"Total cost after 10% discount is: {total_cost_after_discount}\")\n",
    "else:\n",
    "    print(f\"Total cost is: {total_cost}\")"
   ]
  },
  {
   "cell_type": "code",
   "execution_count": 12,
   "id": "0fb94404-8c11-416b-928d-ce818b0c9cd0",
   "metadata": {},
   "outputs": [
    {
     "name": "stdout",
     "output_type": "stream",
     "text": [
      "Enter your marks:  77\n"
     ]
    },
    {
     "name": "stdout",
     "output_type": "stream",
     "text": [
      "Your grade is: B\n"
     ]
    }
   ],
   "source": [
    "# 10. A school has following rules for grading system:\n",
    "    # a. Below 25 - F\n",
    "    # b. 25 to 45 - E\n",
    "    # c. 45 to 50 - D\n",
    "    # d. 50 to 60 - C\n",
    "    # e. 60 to 80 - B\n",
    "    # f. Above 80 - A\n",
    "    # Ask user to enter marks and print the corresponding grade.\n",
    "\n",
    "marks = float(input(\"Enter your marks: \"))\n",
    "\n",
    "if marks < 25:\n",
    "    grade = \"F\"\n",
    "elif 25 <= marks < 45:\n",
    "    grade = \"E\"\n",
    "elif 45 <= marks < 50:\n",
    "    grade = \"D\"\n",
    "elif 50 <= marks < 60:\n",
    "    grade = \"C\"\n",
    "elif 60 <= marks < 80:\n",
    "    grade = \"B\"\n",
    "else:\n",
    "    grade = \"A\"\n",
    "\n",
    "print(f\"Your grade is: {grade}\")"
   ]
  },
  {
   "cell_type": "code",
   "execution_count": 13,
   "id": "5f9f9a1c-d2ce-4fee-afc7-3da0a69e5b1c",
   "metadata": {},
   "outputs": [
    {
     "name": "stdout",
     "output_type": "stream",
     "text": [
      "Enter the number of classes held:  65\n",
      "Enter the number of classes attended:  35\n"
     ]
    },
    {
     "name": "stdout",
     "output_type": "stream",
     "text": [
      "Attendance Percentage: 53.85%\n",
      "The student is not allowed to sit in the exam.\n"
     ]
    }
   ],
   "source": [
    "# 11. A student will not be allowed to sit in exam if his/her attendence is less than 75%.\n",
    "\n",
    "    # Take following input from user\n",
    "    # Number of classes held\n",
    "    # Number of classes attended.\n",
    "    # And print\n",
    "    # percentage of class attended\n",
    "    # Is student is allowed to sit in exam or not.\n",
    "\n",
    "classes_held = int(input(\"Enter the number of classes held: \"))\n",
    "classes_attended = int(input(\"Enter the number of classes attended: \"))\n",
    "\n",
    "attendance_percentage = (classes_attended / classes_held) * 100\n",
    "\n",
    "print(f\"Attendance Percentage: {attendance_percentage:.2f}%\")\n",
    "\n",
    "if attendance_percentage >= 75:\n",
    "    print(\"The student is allowed to sit in the exam.\")\n",
    "else:\n",
    "    print(\"The student is not allowed to sit in the exam.\")"
   ]
  },
  {
   "cell_type": "code",
   "execution_count": 14,
   "id": "53af0972-9053-4178-8cb3-9d9dded10ef2",
   "metadata": {},
   "outputs": [
    {
     "name": "stdout",
     "output_type": "stream",
     "text": [
      "Enter the number of classes held:  55\n",
      "Enter the number of classes attended:  45\n",
      "Do you have a medical cause? (Y/N):  y\n"
     ]
    },
    {
     "name": "stdout",
     "output_type": "stream",
     "text": [
      "Attendance Percentage: 81.82%\n",
      "The student is allowed to sit in the exam.\n"
     ]
    }
   ],
   "source": [
    "# 12. Modify the above question to allow student to sit if he/she has medical cause. \n",
    "    # Ask user if he/she has medical cause or not ( 'Y' or 'N' ) and print accordingly.\n",
    "\n",
    "classes_held = int(input(\"Enter the number of classes held: \"))\n",
    "classes_attended = int(input(\"Enter the number of classes attended: \"))\n",
    "has_medical_cause = input(\"Do you have a medical cause? (Y/N): \").strip().upper()\n",
    "\n",
    "attendance_percentage = (classes_attended / classes_held) * 100\n",
    "\n",
    "print(f\"Attendance Percentage: {attendance_percentage:.2f}%\")\n",
    "\n",
    "if attendance_percentage >= 75 or has_medical_cause == 'Y':\n",
    "    print(\"The student is allowed to sit in the exam.\")\n",
    "else:\n",
    "    print(\"The student is not allowed to sit in the exam.\")"
   ]
  },
  {
   "cell_type": "code",
   "execution_count": 16,
   "id": "434a753e-31c7-463c-8751-9207af2956cd",
   "metadata": {},
   "outputs": [
    {
     "name": "stdout",
     "output_type": "stream",
     "text": [
      "Enter a year:  8\n"
     ]
    },
    {
     "name": "stdout",
     "output_type": "stream",
     "text": [
      "8 is a leap year.\n"
     ]
    }
   ],
   "source": [
    "# 13. Write a program to check if a year is leap year or not.\n",
    "    # If a year is divisible by 4 then it is leap year but if the year \n",
    "    # is century year like 2000, 1900, 2100 then it must be divisible by 400.\n",
    "\n",
    "year = int(input(\"Enter a year: \"))\n",
    "\n",
    "if (year % 4 == 0 and year % 100 != 0) or (year % 400 == 0):\n",
    "    print(f\"{year} is a leap year.\")\n",
    "else:\n",
    "    print(f\"{year} is not a leap year.\")"
   ]
  },
  {
   "cell_type": "code",
   "execution_count": 17,
   "id": "370387fb-dc09-4b39-a784-c64c0b609289",
   "metadata": {},
   "outputs": [
    {
     "name": "stdout",
     "output_type": "stream",
     "text": [
      "Enter your age:  30\n",
      "Enter your gender (M/F):  f\n",
      "Enter your marital status (Y/N):  y\n"
     ]
    },
    {
     "name": "stdout",
     "output_type": "stream",
     "text": [
      "The employee will work in urban areas only.\n"
     ]
    }
   ],
   "source": [
    "# 14. Ask user to enter age, gender ( M or F ), marital status ( Y or N ) and then using following rules print their place of service.\n",
    "    # if employee is female, then she will work only in urban areas.\n",
    "    \n",
    "    # if employee is a male and age is in between 20 to 40 then he may work in anywhere\n",
    "    \n",
    "    # if employee is male and age is in between 40 t0 60 then he will work in urban areas only.\n",
    "    \n",
    "    # And any other input of age should print \"ERROR\"\n",
    "\n",
    "age = int(input(\"Enter your age: \"))\n",
    "gender = input(\"Enter your gender (M/F): \").strip().upper()\n",
    "marital_status = input(\"Enter your marital status (Y/N): \").strip().upper()\n",
    "\n",
    "if gender == 'F':\n",
    "    print(\"The employee will work in urban areas only.\")\n",
    "elif gender == 'M':\n",
    "    if 20 <= age <= 40:\n",
    "        print(\"The employee may work anywhere.\")\n",
    "    elif 40 < age <= 60:\n",
    "        print(\"The employee will work in urban areas only.\")\n",
    "    else:\n",
    "        print(\"ERROR\")\n",
    "else:\n",
    "    print(\"ERROR\")"
   ]
  },
  {
   "cell_type": "code",
   "execution_count": 18,
   "id": "fb6ef201-4070-4143-b33a-6727a8437683",
   "metadata": {},
   "outputs": [
    {
     "name": "stdout",
     "output_type": "stream",
     "text": [
      "Enter the number of units consumed:  200\n"
     ]
    },
    {
     "name": "stdout",
     "output_type": "stream",
     "text": [
      "The total electricity bill is Rs.500\n"
     ]
    }
   ],
   "source": [
    "# 15. Write a program to calculate the electricity bill (accept number of unit from user) \n",
    "    # according to the following criteria : Unit Price uptp 100 units no charge Next 200 \n",
    "    # units Rs 5 per unit After 200 units Rs 10 per unit (For example if input unit is 350 \n",
    "    # than total bill amount is Rs.3500 (For example if input unit is 97 than total bill \n",
    "    # amount is Rs.0 (For example if input unit is 150 than total bill amount is Rs.750\n",
    "\n",
    "units = int(input(\"Enter the number of units consumed: \"))\n",
    "\n",
    "bill_amount = 0\n",
    "\n",
    "if units <= 100:\n",
    "    bill_amount = 0\n",
    "elif 101 <= units <= 300:\n",
    "    bill_amount = (units - 100) * 5\n",
    "else:\n",
    "    bill_amount = (200 * 5) + (units - 300) * 10\n",
    "\n",
    "print(f\"The total electricity bill is Rs.{bill_amount}\")"
   ]
  },
  {
   "cell_type": "code",
   "execution_count": 19,
   "id": "ad657e38-0ee9-4044-bfce-79a97b879271",
   "metadata": {},
   "outputs": [
    {
     "name": "stdout",
     "output_type": "stream",
     "text": [
      "Enter the age of the first person:  20\n",
      "Enter the age of the second person:  21\n",
      "Enter the age of the third person:  22\n"
     ]
    },
    {
     "name": "stdout",
     "output_type": "stream",
     "text": [
      "The oldest age is: 22\n",
      "The youngest age is: 20\n"
     ]
    }
   ],
   "source": [
    "# 16. Take input of age of 3 people by user and determine oldest and youngest among them.\n",
    "\n",
    "age1 = int(input(\"Enter the age of the first person: \"))\n",
    "age2 = int(input(\"Enter the age of the second person: \"))\n",
    "age3 = int(input(\"Enter the age of the third person: \"))\n",
    "\n",
    "oldest = max(age1, age2, age3)\n",
    "youngest = min(age1, age2, age3)\n",
    "\n",
    "print(f\"The oldest age is: {oldest}\")\n",
    "print(f\"The youngest age is: {youngest}\")"
   ]
  },
  {
   "cell_type": "code",
   "execution_count": null,
   "id": "cedc9ead-6882-4a51-b157-4b9d82b91710",
   "metadata": {},
   "outputs": [],
   "source": []
  }
 ],
 "metadata": {
  "kernelspec": {
   "display_name": "Python 3 (ipykernel)",
   "language": "python",
   "name": "python3"
  },
  "language_info": {
   "codemirror_mode": {
    "name": "ipython",
    "version": 3
   },
   "file_extension": ".py",
   "mimetype": "text/x-python",
   "name": "python",
   "nbconvert_exporter": "python",
   "pygments_lexer": "ipython3",
   "version": "3.12.3"
  }
 },
 "nbformat": 4,
 "nbformat_minor": 5
}
