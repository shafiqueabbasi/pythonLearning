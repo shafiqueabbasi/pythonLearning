{
 "cells": [
  {
   "cell_type": "code",
   "execution_count": 1,
   "metadata": {},
   "outputs": [
    {
     "name": "stdout",
     "output_type": "stream",
     "text": [
      "Name: Muhammad Shafique\n",
      "Father's Name: Muhammad Anwar Khan\n",
      "Date Of Birth: 16:May:1994\n"
     ]
    }
   ],
   "source": [
    "# 1. Print Your Name with your Father name and Date of birth using suitable escape sequence charactor\n",
    "\n",
    "print(\"Name: Muhammad Shafique\\nFather's Name: Muhammad Anwar Khan\\nDate Of Birth: 16:May:1994\")"
   ]
  },
  {
   "cell_type": "code",
   "execution_count": 2,
   "metadata": {},
   "outputs": [
    {
     "name": "stdout",
     "output_type": "stream",
     "text": [
      "Name: Muhammad Shafique\n",
      "Bio: I'm a Softwear Developer\n"
     ]
    }
   ],
   "source": [
    "# 2. Write your small bio using variables and print it using print function\n",
    "\n",
    "name = \"Muhammad Shafique\"\n",
    "myBio = \"I'm a Softwear Developer\"\n",
    "\n",
    "print(\"Name:\", name)\n",
    "print(\"Bio:\", myBio)"
   ]
  },
  {
   "cell_type": "code",
   "execution_count": 3,
   "metadata": {},
   "outputs": [
    {
     "name": "stdout",
     "output_type": "stream",
     "text": [
      "1. Arithmetic Operators\n",
      "(15, 5, 50, 2.0, 2, 0, 100000)\n",
      "2. Comparison Operators\n",
      "(False, True, True, False)\n",
      "3. Logical Operators\n",
      "(True, True, True)\n",
      "4. Assignment Operators\n",
      "(12, 15)\n",
      "5. Membership Operators\n",
      "(True, True)\n",
      "6. Identity Operators\n",
      "(True, True)\n"
     ]
    }
   ],
   "source": [
    "# 3.Write a program in which use all the operators we can use in Python\n",
    "\n",
    "# Variables\n",
    "x = 10\n",
    "y = 5\n",
    "my_list = [1, 2, 3, 4]\n",
    "\n",
    "# 1. Arithmetic Operators\n",
    "add = x + y\n",
    "sub = x - y\n",
    "mul = x * y\n",
    "div = x / y\n",
    "floor_div = x // y\n",
    "mod = x % y\n",
    "exp = x ** y\n",
    "\n",
    "# 2. Comparison Operators\n",
    "eq = x == y\n",
    "neq = x != y\n",
    "gt = x > y\n",
    "lt = x < y\n",
    "\n",
    "# 3. Logical Operators\n",
    "and_op = (x > y) and (y < 10)\n",
    "or_op = (x > y) or (y == 5)\n",
    "not_op = not(x == y)\n",
    "\n",
    "# 4. Assignment Operators\n",
    "x += 2\n",
    "y *= 3\n",
    "\n",
    "# 5. Membership Operators\n",
    "in_list = 3 in my_list\n",
    "not_in_list = 6 not in my_list\n",
    "\n",
    "# 6. Identity Operators\n",
    "a = [1, 2, 3]\n",
    "b = a\n",
    "c = [1, 2, 3]\n",
    "is_same = a is b\n",
    "is_not_same = a is not c\n",
    "\n",
    "# Print results\n",
    "print(f\"1. Arithmetic Operators\\n{add, sub, mul, div, floor_div, mod, exp}\")\n",
    "print(f\"2. Comparison Operators\\n{eq, neq, gt, lt}\")\n",
    "print(f\"3. Logical Operators\\n{and_op, or_op, not_op}\")\n",
    "print(f\"4. Assignment Operators\\n{x, y}\")\n",
    "print(f\"5. Membership Operators\\n{in_list, not_in_list}\")\n",
    "print(f\"6. Identity Operators\\n{is_same, is_not_same}\")"
   ]
  },
  {
   "cell_type": "code",
   "execution_count": 4,
   "metadata": {},
   "outputs": [
    {
     "name": "stdout",
     "output_type": "stream",
     "text": [
      "Total Marks Obtained: 255/300\n",
      "Percentage: 85.00%\n"
     ]
    }
   ],
   "source": [
    "# 4. Completes the following steps of small task:\n",
    "    # Mention Marks of English , Islamiat and Maths out of 100 in 3 different variables\n",
    "    # Mention Variable of Total Marks and assign 300 to it\n",
    "    # Calculate Percentage in python code\n",
    "\n",
    "english_marks = 80\n",
    "islamiat_marks = 85\n",
    "maths_marks = 90\n",
    "\n",
    "total_marks = 300\n",
    "\n",
    "total_obtained_marks = english_marks + islamiat_marks + maths_marks\n",
    "\n",
    "percentage = (total_obtained_marks / total_marks) * 100\n",
    "\n",
    "print(f\"Total Marks Obtained: {total_obtained_marks}/{total_marks}\")\n",
    "print(f\"Percentage: {percentage:.2f}%\")\n"
   ]
  },
  {
   "cell_type": "code",
   "execution_count": 6,
   "metadata": {},
   "outputs": [
    {
     "name": "stdin",
     "output_type": "stream",
     "text": [
      "Enter your salary:  55000\n",
      "Enter your year of service:  6\n"
     ]
    },
    {
     "name": "stdout",
     "output_type": "stream",
     "text": [
      "Your bonus amount is: 2750.0\n"
     ]
    }
   ],
   "source": [
    "#Part -2 Python Basics (Conditional Statements)\n",
    "\n",
    "# 1. A company decided to give bonus of 5% to employee if his/her year of service is more than 5 years. \n",
    "#    Ask user for their salary and year of service and print the net bonus amount.\n",
    "\n",
    "salary = float(input(\"Enter your salary: \"))\n",
    "year_of_service = int(input(\"Enter your year of service: \"))\n",
    "\n",
    "if year_of_service > 5:\n",
    "    bonus = salary * 0.05\n",
    "else:\n",
    "    bonus = 0\n",
    "\n",
    "print(f\"Your bonus amount is: {bonus}\")\n"
   ]
  },
  {
   "cell_type": "code",
   "execution_count": 8,
   "metadata": {},
   "outputs": [
    {
     "name": "stdin",
     "output_type": "stream",
     "text": [
      "Enter your age:  20\n"
     ]
    },
    {
     "name": "stdout",
     "output_type": "stream",
     "text": [
      "You are eligible for voting.\n"
     ]
    }
   ],
   "source": [
    "# 2. Write a program to check whether a person is eligible for voting or not. \n",
    "#   (accept age from user) if age is greater than 17 eligible otherwise not eligible\n",
    "\n",
    "age = int(input(\"Enter your age: \"))\n",
    "\n",
    "if age > 17:\n",
    "    print(\"You are eligible for voting.\")\n",
    "else:\n",
    "    print(\"You are not eligible for voting.\")\n"
   ]
  },
  {
   "cell_type": "code",
   "execution_count": 10,
   "metadata": {},
   "outputs": [
    {
     "name": "stdin",
     "output_type": "stream",
     "text": [
      "Enter a number:  4\n"
     ]
    },
    {
     "name": "stdout",
     "output_type": "stream",
     "text": [
      "The number 4 is even.\n"
     ]
    }
   ],
   "source": [
    "# 3. Write a program to check whether a number entered by user is even or odd.\n",
    "\n",
    "number = int(input(\"Enter a number: \"))\n",
    "\n",
    "if number % 2 == 0:\n",
    "    print(f\"The number {number} is even.\")\n",
    "else:\n",
    "    print(f\"The number {number} is odd.\")\n"
   ]
  },
  {
   "cell_type": "code",
   "execution_count": 14,
   "metadata": {},
   "outputs": [
    {
     "name": "stdin",
     "output_type": "stream",
     "text": [
      "Enter a number:  14\n"
     ]
    },
    {
     "name": "stdout",
     "output_type": "stream",
     "text": [
      "The number 14 is divisible by 7.\n"
     ]
    }
   ],
   "source": [
    "# 4. Write a program to check whether a number is divisible by 7 or not. Show Answer\n",
    "\n",
    "number = int(input(\"Enter a number: \"))\n",
    "\n",
    "if number % 7 == 0:\n",
    "    print(f\"The number {number} is divisible by 7.\")\n",
    "else:\n",
    "    print(f\"The number {number} is not divisible by 7.\")\n"
   ]
  },
  {
   "cell_type": "code",
   "execution_count": 18,
   "metadata": {},
   "outputs": [
    {
     "name": "stdin",
     "output_type": "stream",
     "text": [
      "Enter a number:  3\n"
     ]
    },
    {
     "name": "stdout",
     "output_type": "stream",
     "text": [
      "Bye\n"
     ]
    }
   ],
   "source": [
    "# 5. Write a program to display \"Hello\" if a number entered by user is a multiple of five , otherwise print \"Bye\".\n",
    "\n",
    "number = int(input(\"Enter a number: \"))\n",
    "\n",
    "if number % 5 == 0:\n",
    "    print(\"Hello\")\n",
    "else:\n",
    "    print(\"Bye\")\n"
   ]
  },
  {
   "cell_type": "code",
   "execution_count": 20,
   "metadata": {},
   "outputs": [
    {
     "name": "stdin",
     "output_type": "stream",
     "text": [
      "Enter a number:  1123\n"
     ]
    },
    {
     "name": "stdout",
     "output_type": "stream",
     "text": [
      "The last digit of the number is: 3\n"
     ]
    }
   ],
   "source": [
    "# 6. Write a program to display the last digit of a number.\n",
    "\n",
    "number = int(input(\"Enter a number: \"))\n",
    "\n",
    "last_digit = number % 10\n",
    "\n",
    "print(f\"The last digit of the number is: {last_digit}\")\n"
   ]
  },
  {
   "cell_type": "code",
   "execution_count": 22,
   "metadata": {},
   "outputs": [
    {
     "name": "stdin",
     "output_type": "stream",
     "text": [
      "Enter the length of the rectangle:  6\n",
      "Enter the breadth of the rectangle:  3\n"
     ]
    },
    {
     "name": "stdout",
     "output_type": "stream",
     "text": [
      "It is a rectangle.\n"
     ]
    }
   ],
   "source": [
    "# 7. Take values of length and breadth of a rectangle from user and print if it is square or rectangle.\n",
    "\n",
    "length = float(input(\"Enter the length of the rectangle: \"))\n",
    "breadth = float(input(\"Enter the breadth of the rectangle: \"))\n",
    "\n",
    "if length == breadth:\n",
    "    print(\"It is a square.\")\n",
    "else:\n",
    "    print(\"It is a rectangle.\")\n"
   ]
  },
  {
   "cell_type": "code",
   "execution_count": 25,
   "metadata": {},
   "outputs": [
    {
     "name": "stdin",
     "output_type": "stream",
     "text": [
      "Enter the first number:  9\n",
      "Enter the second number:  9\n"
     ]
    },
    {
     "name": "stdout",
     "output_type": "stream",
     "text": [
      "Both numbers are equal.\n"
     ]
    }
   ],
   "source": [
    "# 8. Take two int values from user and print greatest among them.\n",
    "\n",
    "num1 = int(input(\"Enter the first number: \"))\n",
    "num2 = int(input(\"Enter the second number: \"))\n",
    "\n",
    "if num1 > num2:\n",
    "    print(f\"The greatest number is {num1}.\")\n",
    "elif num2 > num1:\n",
    "    print(f\"The greatest number is {num2}.\")\n",
    "else:\n",
    "    print(\"Both numbers are equal.\")\n"
   ]
  },
  {
   "cell_type": "code",
   "execution_count": 32,
   "metadata": {},
   "outputs": [
    {
     "name": "stdin",
     "output_type": "stream",
     "text": [
      "Enter the quantity of items purchased:  2\n"
     ]
    },
    {
     "name": "stdout",
     "output_type": "stream",
     "text": [
      "Total cost is: 200\n"
     ]
    }
   ],
   "source": [
    "# 9. A shop will give discount of 10% if the cost of purchased quantity is more than 1000. \n",
    "#    Ask user for quantity Suppose, one unit will cost 100. Judge and print total cost for user.\n",
    "\n",
    "quantity = int(input(\"Enter the quantity of items purchased: \"))\n",
    "\n",
    "unit_price = 100\n",
    "total_cost = quantity * unit_price\n",
    "\n",
    "if total_cost > 1000:\n",
    "    discount = total_cost * 0.10\n",
    "    total_cost_after_discount = total_cost - discount\n",
    "    print(f\"Total cost after 10% discount is: {total_cost_after_discount}\")\n",
    "else:\n",
    "    print(f\"Total cost is: {total_cost}\")\n"
   ]
  },
  {
   "cell_type": "code",
   "execution_count": 33,
   "metadata": {},
   "outputs": [
    {
     "name": "stdin",
     "output_type": "stream",
     "text": [
      "Enter your marks:  95\n"
     ]
    },
    {
     "name": "stdout",
     "output_type": "stream",
     "text": [
      "Your grade is: A\n"
     ]
    }
   ],
   "source": [
    "# 10. A school has following rules for grading system:\n",
    "    # a. Below 25 - F\n",
    "    # b. 25 to 45 - E\n",
    "    # c. 45 to 50 - D\n",
    "    # d. 50 to 60 - C\n",
    "    # e. 60 to 80 - B\n",
    "    # f. Above 80 - A\n",
    "    # Ask user to enter marks and print the corresponding grade.\n",
    "\n",
    "marks = float(input(\"Enter your marks: \"))\n",
    "\n",
    "if marks < 25:\n",
    "    grade = \"F\"\n",
    "elif 25 <= marks < 45:\n",
    "    grade = \"E\"\n",
    "elif 45 <= marks < 50:\n",
    "    grade = \"D\"\n",
    "elif 50 <= marks < 60:\n",
    "    grade = \"C\"\n",
    "elif 60 <= marks < 80:\n",
    "    grade = \"B\"\n",
    "else:\n",
    "    grade = \"A\"\n",
    "\n",
    "print(f\"Your grade is: {grade}\")\n"
   ]
  },
  {
   "cell_type": "code",
   "execution_count": 36,
   "metadata": {},
   "outputs": [
    {
     "name": "stdin",
     "output_type": "stream",
     "text": [
      "Enter the number of classes held:  65\n",
      "Enter the number of classes attended:  35\n"
     ]
    },
    {
     "name": "stdout",
     "output_type": "stream",
     "text": [
      "Attendance Percentage: 53.85%\n",
      "The student is not allowed to sit in the exam.\n"
     ]
    }
   ],
   "source": [
    "# 11. A student will not be allowed to sit in exam if his/her attendence is less than 75%.\n",
    "\n",
    "    # Take following input from user\n",
    "    # Number of classes held\n",
    "    # Number of classes attended.\n",
    "    # And print\n",
    "    # percentage of class attended\n",
    "    # Is student is allowed to sit in exam or not.\n",
    "\n",
    "classes_held = int(input(\"Enter the number of classes held: \"))\n",
    "classes_attended = int(input(\"Enter the number of classes attended: \"))\n",
    "\n",
    "attendance_percentage = (classes_attended / classes_held) * 100\n",
    "\n",
    "print(f\"Attendance Percentage: {attendance_percentage:.2f}%\")\n",
    "\n",
    "if attendance_percentage >= 75:\n",
    "    print(\"The student is allowed to sit in the exam.\")\n",
    "else:\n",
    "    print(\"The student is not allowed to sit in the exam.\")\n"
   ]
  },
  {
   "cell_type": "code",
   "execution_count": 39,
   "metadata": {},
   "outputs": [
    {
     "name": "stdin",
     "output_type": "stream",
     "text": [
      "Enter the number of classes held:  65\n",
      "Enter the number of classes attended:  35\n",
      "Do you have a medical cause? (Y/N):  n\n"
     ]
    },
    {
     "name": "stdout",
     "output_type": "stream",
     "text": [
      "Attendance Percentage: 53.85%\n",
      "The student is not allowed to sit in the exam.\n"
     ]
    }
   ],
   "source": [
    "# 12. Modify the above question to allow student to sit if he/she has medical cause. \n",
    "    # Ask user if he/she has medical cause or not ( 'Y' or 'N' ) and print accordingly.\n",
    "\n",
    "classes_held = int(input(\"Enter the number of classes held: \"))\n",
    "classes_attended = int(input(\"Enter the number of classes attended: \"))\n",
    "has_medical_cause = input(\"Do you have a medical cause? (Y/N): \").strip().upper()\n",
    "\n",
    "attendance_percentage = (classes_attended / classes_held) * 100\n",
    "\n",
    "print(f\"Attendance Percentage: {attendance_percentage:.2f}%\")\n",
    "\n",
    "if attendance_percentage >= 75 or has_medical_cause == 'Y':\n",
    "    print(\"The student is allowed to sit in the exam.\")\n",
    "else:\n",
    "    print(\"The student is not allowed to sit in the exam.\")\n"
   ]
  },
  {
   "cell_type": "code",
   "execution_count": 46,
   "metadata": {},
   "outputs": [
    {
     "name": "stdin",
     "output_type": "stream",
     "text": [
      "Enter a year:  12\n"
     ]
    },
    {
     "name": "stdout",
     "output_type": "stream",
     "text": [
      "12 is a leap year.\n"
     ]
    }
   ],
   "source": [
    "# 13. Write a program to check if a year is leap year or not.\n",
    "    # If a year is divisible by 4 then it is leap year but if the year \n",
    "    # is century year like 2000, 1900, 2100 then it must be divisible by 400.\n",
    "\n",
    "year = int(input(\"Enter a year: \"))\n",
    "\n",
    "if (year % 4 == 0 and year % 100 != 0) or (year % 400 == 0):\n",
    "    print(f\"{year} is a leap year.\")\n",
    "else:\n",
    "    print(f\"{year} is not a leap year.\")\n"
   ]
  },
  {
   "cell_type": "code",
   "execution_count": 48,
   "metadata": {},
   "outputs": [
    {
     "name": "stdin",
     "output_type": "stream",
     "text": [
      "Enter your age:  30\n",
      "Enter your gender (M/F):  f\n",
      "Enter your marital status (Y/N):  n\n"
     ]
    },
    {
     "name": "stdout",
     "output_type": "stream",
     "text": [
      "The employee will work in urban areas only.\n"
     ]
    }
   ],
   "source": [
    "# 14. Ask user to enter age, gender ( M or F ), marital status ( Y or N ) and then using following rules print their place of service.\n",
    "    # if employee is female, then she will work only in urban areas.\n",
    "    \n",
    "    # if employee is a male and age is in between 20 to 40 then he may work in anywhere\n",
    "    \n",
    "    # if employee is male and age is in between 40 t0 60 then he will work in urban areas only.\n",
    "    \n",
    "    # And any other input of age should print \"ERROR\"\n",
    "\n",
    "age = int(input(\"Enter your age: \"))\n",
    "gender = input(\"Enter your gender (M/F): \").strip().upper()\n",
    "marital_status = input(\"Enter your marital status (Y/N): \").strip().upper()\n",
    "\n",
    "if gender == 'F':\n",
    "    print(\"The employee will work in urban areas only.\")\n",
    "elif gender == 'M':\n",
    "    if 20 <= age <= 40:\n",
    "        print(\"The employee may work anywhere.\")\n",
    "    elif 40 < age <= 60:\n",
    "        print(\"The employee will work in urban areas only.\")\n",
    "    else:\n",
    "        print(\"ERROR\")\n",
    "else:\n",
    "    print(\"ERROR\")\n"
   ]
  },
  {
   "cell_type": "code",
   "execution_count": 53,
   "metadata": {},
   "outputs": [
    {
     "name": "stdin",
     "output_type": "stream",
     "text": [
      "Enter the number of units consumed:  200\n"
     ]
    },
    {
     "name": "stdout",
     "output_type": "stream",
     "text": [
      "The total electricity bill is Rs.500\n"
     ]
    }
   ],
   "source": [
    "# 15. Write a program to calculate the electricity bill (accept number of unit from user) \n",
    "    # according to the following criteria : Unit Price uptp 100 units no charge Next 200 \n",
    "    # units Rs 5 per unit After 200 units Rs 10 per unit (For example if input unit is 350 \n",
    "    # than total bill amount is Rs.3500 (For example if input unit is 97 than total bill \n",
    "    # amount is Rs.0 (For example if input unit is 150 than total bill amount is Rs.750\n",
    "\n",
    "units = int(input(\"Enter the number of units consumed: \"))\n",
    "\n",
    "bill_amount = 0\n",
    "\n",
    "if units <= 100:\n",
    "    bill_amount = 0\n",
    "elif 101 <= units <= 300:\n",
    "    bill_amount = (units - 100) * 5\n",
    "else:\n",
    "    bill_amount = (200 * 5) + (units - 300) * 10\n",
    "\n",
    "print(f\"The total electricity bill is Rs.{bill_amount}\")\n"
   ]
  },
  {
   "cell_type": "code",
   "execution_count": 58,
   "metadata": {},
   "outputs": [
    {
     "name": "stdin",
     "output_type": "stream",
     "text": [
      "Enter the age of the first person:  20\n",
      "Enter the age of the second person:  21\n",
      "Enter the age of the third person:  22\n"
     ]
    },
    {
     "name": "stdout",
     "output_type": "stream",
     "text": [
      "The oldest age is: 22\n",
      "The youngest age is: 20\n"
     ]
    }
   ],
   "source": [
    "# 16. Take input of age of 3 people by user and determine oldest and youngest among them.\n",
    "\n",
    "age1 = int(input(\"Enter the age of the first person: \"))\n",
    "age2 = int(input(\"Enter the age of the second person: \"))\n",
    "age3 = int(input(\"Enter the age of the third person: \"))\n",
    "\n",
    "oldest = max(age1, age2, age3)\n",
    "youngest = min(age1, age2, age3)\n",
    "\n",
    "print(f\"The oldest age is: {oldest}\")\n",
    "print(f\"The youngest age is: {youngest}\")\n"
   ]
  },
  {
   "cell_type": "code",
   "execution_count": null,
   "metadata": {},
   "outputs": [],
   "source": []
  }
 ],
 "metadata": {
  "kernelspec": {
   "display_name": "Python 3 (ipykernel)",
   "language": "python",
   "name": "python3"
  },
  "language_info": {
   "codemirror_mode": {
    "name": "ipython",
    "version": 3
   },
   "file_extension": ".py",
   "mimetype": "text/x-python",
   "name": "python",
   "nbconvert_exporter": "python",
   "pygments_lexer": "ipython3",
   "version": "3.12.7"
  }
 },
 "nbformat": 4,
 "nbformat_minor": 4
}
