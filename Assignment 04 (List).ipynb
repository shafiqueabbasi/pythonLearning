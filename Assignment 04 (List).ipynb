{
 "cells": [
  {
   "cell_type": "code",
   "execution_count": null,
   "id": "d2762d3e-47cf-483c-9488-603ab5a625a2",
   "metadata": {},
   "outputs": [],
   "source": [
    "List Assignment"
   ]
  },
  {
   "cell_type": "code",
   "execution_count": 2,
   "id": "a75c3d66-5804-4185-9efc-0db8762192d1",
   "metadata": {},
   "outputs": [
    {
     "name": "stdin",
     "output_type": "stream",
     "text": [
      "Enter the elements of the list separated by space:  1 2 3 4 5 6 7 8 9\n"
     ]
    },
    {
     "name": "stdout",
     "output_type": "stream",
     "text": [
      "Alternate elements of the list are:\n",
      "1\n",
      "3\n",
      "5\n",
      "7\n",
      "9\n"
     ]
    }
   ],
   "source": [
    "# 1. Write a program that accepts a list from user and print the alternate element of list.\n",
    "\n",
    "def print_alternate_elements(lst):\n",
    "    for i in range(0, len(lst), 2):\n",
    "        print(lst[i])\n",
    "\n",
    "user_input = input(\"Enter the elements of the list separated by space: \")\n",
    "user_list = user_input.split()\n",
    "\n",
    "print(\"Alternate elements of the list are:\")\n",
    "print_alternate_elements(user_list)\n"
   ]
  },
  {
   "cell_type": "code",
   "execution_count": 5,
   "id": "4db50dc5-5b0a-4cd1-9414-6905c7e8efb6",
   "metadata": {},
   "outputs": [
    {
     "name": "stdin",
     "output_type": "stream",
     "text": [
      "Enter the elements of the list separated by space:  1 2 3 4 5 6 7 8 9\n"
     ]
    },
    {
     "name": "stdout",
     "output_type": "stream",
     "text": [
      "Reversed list is: ['9', '8', '7', '6', '5', '4', '3', '2', '1']\n"
     ]
    }
   ],
   "source": [
    "# 2. Write a program that accepts a list from user. Your program should reverse the content of list and\n",
    "# display it. Do not use reverse() method.\n",
    "\n",
    "def reverse_list(lst):\n",
    "    reversed_lst = []\n",
    "    for i in range(len(lst) - 1, -1, -1):\n",
    "        reversed_lst.append(lst[i])\n",
    "    return reversed_lst\n",
    "\n",
    "user_input = input(\"Enter the elements of the list separated by space: \")\n",
    "user_list = user_input.split()\n",
    "\n",
    "reversed_list = reverse_list(user_list)\n",
    "\n",
    "print(\"Reversed list is:\", reversed_list)\n"
   ]
  },
  {
   "cell_type": "code",
   "execution_count": 6,
   "id": "11b3ef41-407f-4806-8269-f0074066cc70",
   "metadata": {},
   "outputs": [
    {
     "name": "stdin",
     "output_type": "stream",
     "text": [
      "Enter the elements of the list separated by space:  22 45 5 66 99\n"
     ]
    },
    {
     "name": "stdout",
     "output_type": "stream",
     "text": [
      "The largest number in the list is: 99\n"
     ]
    }
   ],
   "source": [
    "# 3. Find and display the largest number of a list without using built-in function max(). Your program\n",
    "# should ask the user to input values in list from keyboard.\n",
    "\n",
    "def find_largest(lst):\n",
    "    largest = lst[0]\n",
    "    \n",
    "    for num in lst:\n",
    "        if num > largest:\n",
    "            largest = num\n",
    "    \n",
    "    return largest\n",
    "\n",
    "user_input = input(\"Enter the elements of the list separated by space: \")\n",
    "\n",
    "user_list = list(map(int, user_input.split()))\n",
    "\n",
    "largest_number = find_largest(user_list)\n",
    "\n",
    "print(\"The largest number in the list is:\", largest_number)\n"
   ]
  },
  {
   "cell_type": "code",
   "execution_count": 7,
   "id": "7012b3c8-d8af-4a81-8331-a03b56681d3f",
   "metadata": {},
   "outputs": [
    {
     "name": "stdin",
     "output_type": "stream",
     "text": [
      "Enter the elements of the list separated by space:  1 2 3 4 5\n"
     ]
    },
    {
     "name": "stdout",
     "output_type": "stream",
     "text": [
      "Rotated list is: ['2', '3', '4', '5', '1']\n"
     ]
    }
   ],
   "source": [
    "# 4. Write a program that rotates the element of a list so that the element at the first index moves to the\n",
    "# second index, the element in the second index moves to the third index, etc., and the element in the last\n",
    "# index moves to the first index.\n",
    "\n",
    "def rotate_list(lst):\n",
    "    if len(lst) <= 1:\n",
    "        return lst\n",
    "    \n",
    "    rotated_lst = lst[1:] + [lst[0]]\n",
    "    return rotated_lst\n",
    "\n",
    "user_input = input(\"Enter the elements of the list separated by space: \")\n",
    "\n",
    "user_list = user_input.split()\n",
    "\n",
    "rotated_list = rotate_list(user_list)\n",
    "\n",
    "print(\"Rotated list is:\", rotated_list)\n"
   ]
  },
  {
   "cell_type": "code",
   "execution_count": 8,
   "id": "6b11b202-3f39-49eb-9f28-74520c5b5b57",
   "metadata": {},
   "outputs": [
    {
     "name": "stdin",
     "output_type": "stream",
     "text": [
      "Enter a string:  Python is a great programming language\n",
      "Enter the word to delete from the string:  great\n"
     ]
    },
    {
     "name": "stdout",
     "output_type": "stream",
     "text": [
      "Modified string is: Python is a programming language\n"
     ]
    }
   ],
   "source": [
    "# 5. Write a program that input a string and ask user to delete a given word from a string.\n",
    "\n",
    "def remove_word_from_string(string, word_to_remove):\n",
    "    words = string.split()\n",
    "    words = [word for word in words if word != word_to_remove]\n",
    "    return \" \".join(words)\n",
    "\n",
    "user_string = input(\"Enter a string: \")\n",
    "\n",
    "word_to_remove = input(\"Enter the word to delete from the string: \")\n",
    "\n",
    "modified_string = remove_word_from_string(user_string, word_to_remove)\n",
    "\n",
    "print(\"Modified string is:\", modified_string)\n"
   ]
  },
  {
   "cell_type": "code",
   "execution_count": 9,
   "id": "60667ee0-ee11-461b-86d4-7412005043a7",
   "metadata": {},
   "outputs": [
    {
     "name": "stdin",
     "output_type": "stream",
     "text": [
      "Enter a date in mm/dd/yyyy format:  03/22/2025\n"
     ]
    },
    {
     "name": "stdout",
     "output_type": "stream",
     "text": [
      "Formatted date is: March 22, 2025\n"
     ]
    }
   ],
   "source": [
    "# 6. Write a program that reads a string from the user containing a date in the form mm/dd/yyyy. It\n",
    "# should print the date in the form March 12, 2021.\n",
    "\n",
    "def convert_date_format(date_str):\n",
    "    month_names = {\n",
    "        '01': 'January', '02': 'February', '03': 'March', '04': 'April',\n",
    "        '05': 'May', '06': 'June', '07': 'July', '08': 'August',\n",
    "        '09': 'September', '10': 'October', '11': 'November', '12': 'December'\n",
    "    }\n",
    "    \n",
    "    month, day, year = date_str.split('/')\n",
    "    \n",
    "    formatted_date = f\"{month_names[month]} {int(day)}, {year}\"\n",
    "    \n",
    "    return formatted_date\n",
    "\n",
    "user_date = input(\"Enter a date in mm/dd/yyyy format: \")\n",
    "\n",
    "formatted_date = convert_date_format(user_date)\n",
    "\n",
    "print(\"Formatted date is:\", formatted_date)\n"
   ]
  },
  {
   "cell_type": "code",
   "execution_count": 10,
   "id": "e2fa66a7-cb23-4293-9036-0a754439d8ab",
   "metadata": {},
   "outputs": [
    {
     "name": "stdin",
     "output_type": "stream",
     "text": [
      "Enter a sentence:  stop and smell the roses.\n"
     ]
    },
    {
     "name": "stdout",
     "output_type": "stream",
     "text": [
      "Capitalized sentence: Stop And Smell The Roses.\n"
     ]
    }
   ],
   "source": [
    "# 7. Write a program with a function that accepts a string from keyboard and create a new string after\n",
    "# converting character of each word capitalized. For instance, if the sentence is \"stop and smell the roses.\"\n",
    "# the output should be \"Stop And Smell The Roses\"\n",
    "\n",
    "def capitalize_words(sentence):\n",
    "    capitalized_sentence = \" \".join([word.capitalize() for word in sentence.split()])\n",
    "    return capitalized_sentence\n",
    "\n",
    "user_input = input(\"Enter a sentence: \")\n",
    "\n",
    "capitalized_string = capitalize_words(user_input)\n",
    "\n",
    "print(\"Capitalized sentence:\", capitalized_string)\n"
   ]
  },
  {
   "cell_type": "code",
   "execution_count": 11,
   "id": "9a938059-8654-4df8-ba61-ecf88846e80c",
   "metadata": {},
   "outputs": [
    {
     "name": "stdin",
     "output_type": "stream",
     "text": [
      "Enter the number of rows (m):  3\n",
      "Enter the number of columns (n):  4\n"
     ]
    },
    {
     "name": "stdout",
     "output_type": "stream",
     "text": [
      "Enter the matrix row by row:\n"
     ]
    },
    {
     "name": "stdin",
     "output_type": "stream",
     "text": [
      "Enter row 1:  5\n",
      "Enter row 2:  6\n",
      "Enter row 3:  6\n"
     ]
    },
    {
     "name": "stdout",
     "output_type": "stream",
     "text": [
      "Sum of row 1 = 5\n",
      "Sum of row 2 = 6\n",
      "Sum of row 3 = 6\n"
     ]
    }
   ],
   "source": [
    "# 8. Find the sum of each row of matrix of size m x n. For example for the following matrix output will be\n",
    "# like this:\n",
    "# 2 11 7 12\n",
    "# 5 2 9 15\n",
    "# 8 3 10 42\n",
    "# Sum of row 1 = 32\n",
    "# Sum of row 2 = 31\n",
    "# Sum of row 3 = 63\n",
    "\n",
    "def sum_of_rows(matrix):\n",
    "    for i, row in enumerate(matrix):\n",
    "        row_sum = sum(row)\n",
    "        print(f\"Sum of row {i + 1} = {row_sum}\")\n",
    "\n",
    "m = int(input(\"Enter the number of rows (m): \"))\n",
    "n = int(input(\"Enter the number of columns (n): \"))\n",
    "\n",
    "matrix = []\n",
    "print(\"Enter the matrix row by row:\")\n",
    "for i in range(m):\n",
    "    row = list(map(int, input(f\"Enter row {i + 1}: \").split()))\n",
    "    matrix.append(row)\n",
    "\n",
    "sum_of_rows(matrix)\n"
   ]
  },
  {
   "cell_type": "code",
   "execution_count": 16,
   "id": "9a907bbb-248d-42f4-b2ea-d7b1293637d5",
   "metadata": {},
   "outputs": [
    {
     "name": "stdin",
     "output_type": "stream",
     "text": [
      "Enter the number of rows (n):  2\n",
      "Enter the number of columns (m):  3\n"
     ]
    },
    {
     "name": "stdout",
     "output_type": "stream",
     "text": [
      "Enter the elements of the first matrix row by row:\n"
     ]
    },
    {
     "name": "stdin",
     "output_type": "stream",
     "text": [
      "Enter row 1:  1 2 3\n",
      "Enter row 2:  4 5 6\n"
     ]
    },
    {
     "name": "stdout",
     "output_type": "stream",
     "text": [
      "Enter the elements of the second matrix row by row:\n"
     ]
    },
    {
     "name": "stdin",
     "output_type": "stream",
     "text": [
      "Enter row 1:  7 8 9\n",
      "Enter row 2:  10 11 12\n"
     ]
    },
    {
     "name": "stdout",
     "output_type": "stream",
     "text": [
      "The result of matrix addition is:\n",
      "[8, 10, 12]\n",
      "[14, 16, 18]\n"
     ]
    }
   ],
   "source": [
    "# 9. Write a program to add two matrices of size n x m.\n",
    "\n",
    "def add_matrices(matrix1, matrix2):\n",
    "    result = []\n",
    "    \n",
    "    for i in range(len(matrix1)):\n",
    "        row = [matrix1[i][j] + matrix2[i][j] for j in range(len(matrix1[i]))]\n",
    "        result.append(row)\n",
    "    \n",
    "    return result\n",
    "\n",
    "n = int(input(\"Enter the number of rows (n): \"))\n",
    "m = int(input(\"Enter the number of columns (m): \"))\n",
    "\n",
    "print(\"Enter the elements of the first matrix row by row:\")\n",
    "matrix1 = []\n",
    "for i in range(n):\n",
    "    row = list(map(int, input(f\"Enter row {i + 1}: \").split()))\n",
    "    matrix1.append(row)\n",
    "\n",
    "print(\"Enter the elements of the second matrix row by row:\")\n",
    "matrix2 = []\n",
    "for i in range(n):\n",
    "    row = list(map(int, input(f\"Enter row {i + 1}: \").split()))\n",
    "    matrix2.append(row)\n",
    "\n",
    "result_matrix = add_matrices(matrix1, matrix2)\n",
    "\n",
    "print(\"The result of matrix addition is:\")\n",
    "for row in result_matrix:\n",
    "    print(row)\n"
   ]
  },
  {
   "cell_type": "code",
   "execution_count": 17,
   "id": "ce53eb4a-ed4d-4ce1-ba53-7718d7211425",
   "metadata": {},
   "outputs": [
    {
     "name": "stdin",
     "output_type": "stream",
     "text": [
      "Enter the number of rows of the first matrix (n1):  2\n",
      "Enter the number of columns of the first matrix (m1):  3\n",
      "Enter the number of rows of the second matrix (n2):  3\n",
      "Enter the number of columns of the second matrix (m2):  2\n"
     ]
    },
    {
     "name": "stdout",
     "output_type": "stream",
     "text": [
      "Enter the elements of the first matrix:\n"
     ]
    },
    {
     "name": "stdin",
     "output_type": "stream",
     "text": [
      "Enter row 1:  1 2 3\n",
      "Enter row 2:  4 5 6\n"
     ]
    },
    {
     "name": "stdout",
     "output_type": "stream",
     "text": [
      "Enter the elements of the second matrix:\n"
     ]
    },
    {
     "name": "stdin",
     "output_type": "stream",
     "text": [
      "Enter row 1:  7 8\n",
      "Enter row 2:  9 10\n",
      "Enter row 3:  11 12\n"
     ]
    },
    {
     "name": "stdout",
     "output_type": "stream",
     "text": [
      "The result of matrix multiplication is:\n",
      "[58, 64]\n",
      "[139, 154]\n"
     ]
    }
   ],
   "source": [
    "# 10. Write a program to multiply two matrices\n",
    "\n",
    "def multiply_matrices(matrix1, matrix2):\n",
    "    n1, m1 = len(matrix1), len(matrix1[0])  \n",
    "    n2, m2 = len(matrix2), len(matrix2[0]) \n",
    "    \n",
    "    if m1 != n2:\n",
    "        print(\"Matrix multiplication is not possible. The number of columns of the first matrix must be equal to the number of rows of the second matrix.\")\n",
    "        return None\n",
    "    \n",
    "    result = [[0 for _ in range(m2)] for _ in range(n1)]\n",
    "    \n",
    "    for i in range(n1):\n",
    "        for j in range(m2):\n",
    "            for k in range(m1):  # or k in range(n2), both are same for valid multiplication\n",
    "                result[i][j] += matrix1[i][k] * matrix2[k][j]\n",
    "    \n",
    "    return result\n",
    "\n",
    "n1 = int(input(\"Enter the number of rows of the first matrix (n1): \"))\n",
    "m1 = int(input(\"Enter the number of columns of the first matrix (m1): \"))\n",
    "\n",
    "n2 = int(input(\"Enter the number of rows of the second matrix (n2): \"))\n",
    "m2 = int(input(\"Enter the number of columns of the second matrix (m2): \"))\n",
    "\n",
    "if m1 != n2:\n",
    "    print(\"Matrix multiplication is not possible. The number of columns of the first matrix must be equal to the number of rows of the second matrix.\")\n",
    "else:\n",
    "    print(\"Enter the elements of the first matrix:\")\n",
    "    matrix1 = []\n",
    "    for i in range(n1):\n",
    "        row = list(map(int, input(f\"Enter row {i + 1}: \").split()))\n",
    "        matrix1.append(row)\n",
    "    \n",
    "    print(\"Enter the elements of the second matrix:\")\n",
    "    matrix2 = []\n",
    "    for i in range(n2):\n",
    "        row = list(map(int, input(f\"Enter row {i + 1}: \").split()))\n",
    "        matrix2.append(row)\n",
    "    \n",
    "    result_matrix = multiply_matrices(matrix1, matrix2)\n",
    "    \n",
    "    if result_matrix is not None:\n",
    "        print(\"The result of matrix multiplication is:\")\n",
    "        for row in result_matrix:\n",
    "            print(row)\n"
   ]
  },
  {
   "cell_type": "code",
   "execution_count": null,
   "id": "435d35b5-9756-4f26-be8e-d8ff45cf3bb9",
   "metadata": {},
   "outputs": [],
   "source": []
  }
 ],
 "metadata": {
  "kernelspec": {
   "display_name": "Python 3 (ipykernel)",
   "language": "python",
   "name": "python3"
  },
  "language_info": {
   "codemirror_mode": {
    "name": "ipython",
    "version": 3
   },
   "file_extension": ".py",
   "mimetype": "text/x-python",
   "name": "python",
   "nbconvert_exporter": "python",
   "pygments_lexer": "ipython3",
   "version": "3.12.7"
  }
 },
 "nbformat": 4,
 "nbformat_minor": 5
}
